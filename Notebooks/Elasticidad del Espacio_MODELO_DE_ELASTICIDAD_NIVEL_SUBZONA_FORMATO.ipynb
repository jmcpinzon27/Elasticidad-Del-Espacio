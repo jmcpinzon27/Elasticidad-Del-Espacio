{
 "cells": [
  {
   "cell_type": "markdown",
   "metadata": {},
   "source": [
    "## ANÁLISIS DE ELASTICIDAD DEL ESPACIO PARA ÉXITO POR SUBZONA Y FORMATO"
   ]
  },
  {
   "cell_type": "code",
   "execution_count": 1,
   "metadata": {},
   "outputs": [],
   "source": [
    "import numpy as np \n",
    "import scipy.optimize as opt\n",
    "from scipy.optimize import minimize\n",
    "import pandas as pd \n",
    "import matplotlib as mpl\n",
    "import matplotlib.pyplot as plt\n",
    "import seaborn as sns\n",
    "%matplotlib inline\n",
    "import math\n",
    "import plotly.graph_objects as go\n",
    "from scipy.optimize import Bounds"
   ]
  },
  {
   "cell_type": "markdown",
   "metadata": {},
   "source": [
    "## LECTURA E IDENTIFICACIÓN DE DATOS "
   ]
  },
  {
   "cell_type": "code",
   "execution_count": 2,
   "metadata": {},
   "outputs": [],
   "source": [
    "full_data = pd.read_csv('Elasticidad del espacio/full_data_format.csv', sep=',')\n",
    "full_data_2 = pd.read_csv('Elasticidad del espacio/full_data_format.csv', sep=',')"
   ]
  },
  {
   "cell_type": "markdown",
   "metadata": {},
   "source": [
    "**DEFINIMOS LAS BASES DE DATOS PARA CADA TIPO DE FORMATO**"
   ]
  },
  {
   "cell_type": "code",
   "execution_count": 3,
   "metadata": {},
   "outputs": [],
   "source": [
    "#BASES DE DATOS POR TIPO DE FORMATO\n",
    "hiper = full_data[full_data.FormatDesc == 'HIPERMERCADOS']\n",
    "supermercado = full_data[full_data.FormatDesc == 'SUPERMERCADO']\n",
    "vecino = full_data[full_data.FormatDesc == 'VECINO']"
   ]
  },
  {
   "cell_type": "code",
   "execution_count": 4,
   "metadata": {},
   "outputs": [],
   "source": [
    "#BASE DE DATOS CON LA INFORMACIÓN POR DEPENDENCIA\n",
    "data_loc = full_data.iloc[:,[0,1,13,16,14,15,3]]\n",
    "data_loc = data_loc.drop_duplicates()"
   ]
  },
  {
   "cell_type": "markdown",
   "metadata": {},
   "source": [
    "## ASIGNACIÓN DE SERIES POR SUBZONA Y MACROCATEGORÍA"
   ]
  },
  {
   "cell_type": "code",
   "execution_count": 6,
   "metadata": {},
   "outputs": [],
   "source": [
    "#OBTENEMOS UNA LISTA DE TUPLAS CON EL CÓDIGO Y LA DESCRIPCIÓN DE LA MACRO \n",
    "list_1 = full_data['DESC_MACRO'].unique()\n",
    "list_2 = full_data['MACRO'].unique()\n",
    "\n",
    "mac_comb = []\n",
    "i = 0\n",
    "for mac in hiper['MACRO'].unique():\n",
    "    if mac == list_2[i]:\n",
    "        mac_comb.append((mac, list_1[i]))\n",
    "    i += 1\n"
   ]
  },
  {
   "cell_type": "code",
   "execution_count": 7,
   "metadata": {},
   "outputs": [],
   "source": [
    "#CONVERTIMOS LA LISTA DE TUPLAS EN UN DATAFRAME\n",
    "macro_df = pd.DataFrame(mac_comb, columns=['MACRO_ID', 'DESC_MAC']) "
   ]
  },
  {
   "cell_type": "code",
   "execution_count": 8,
   "metadata": {},
   "outputs": [],
   "source": [
    "#DEFINIMOS LA FUNCIÓN PARA CALCULAR LAS SERIES\n",
    "def series(sub, macro, df):\n",
    "    serie = df[['N° DEP.', 'DEPENDENCIA', \n",
    "                'MACRO', 'DESC_MACRO', 'CUERPOS FINALES', 'Vta_Und',\n",
    "               'VentaSinIva']].loc[(df['SubzoneDesc'] == sub) & (df['DESC_MACRO'] == macro)]\n",
    "    \n",
    "    return serie"
   ]
  },
  {
   "cell_type": "markdown",
   "metadata": {},
   "source": [
    "**ANÁLISIS FORMATO HIPERMERCADO**"
   ]
  },
  {
   "cell_type": "code",
   "execution_count": 9,
   "metadata": {},
   "outputs": [],
   "source": [
    "#CALCULAMOS TODAS LAS POSIBLES COMBINACIONES ENTRE LAS SUBZONAS Y LAS MACROS PARA EL FORMATO HIPERMERCADO \n",
    "#Y LO GUARDAMOS EN UNA LISTA DE TUPLAS\n",
    "combinations = []\n",
    "for sub in hiper['SubzoneDesc'].unique():\n",
    "    for macro in hiper['DESC_MACRO'].unique():\n",
    "        combinations.append((sub, macro))\n"
   ]
  },
  {
   "cell_type": "code",
   "execution_count": 10,
   "metadata": {},
   "outputs": [],
   "source": [
    "#DEFINIMOS LA FUNCIÓN DE VENTAS Y EL ERROR CUADRÁTICO \n",
    "def sales(a,x):\n",
    "    \n",
    "    return a[0]*(1-np.exp(-a[1]*x))\n",
    "\n",
    "def q_err(a,x,y):\n",
    "    \n",
    "     return sum((sales(a,x) - y)**2)\n"
   ]
  },
  {
   "cell_type": "code",
   "execution_count": 11,
   "metadata": {},
   "outputs": [],
   "source": [
    "#PARA CADA COMBINACIÓN DE SUBZONA Y MACRO OBTENEMOS UNA SERIE Y LE APLICAMOS LA OPTIMIZACIÓN\n",
    "#LOS PARÁMETROS ÓPTIMOS CALCULADOS LOS GUARDAMOS EN UNA LISTA DE TUPLAS\n",
    "#ESTA PRIMERA OPTIMIZACIÓN ES TENIENDO EN CUENTA LA VENTA EN PESOS\n",
    "\n",
    "parameters = []\n",
    "\n",
    "for comb in combinations:\n",
    "\n",
    "    data = series(comb[0], comb[1], hiper)\n",
    "    \n",
    "    if len(data['CUERPOS FINALES'].unique()) > 2:\n",
    "        \n",
    "        x1 = data['CUERPOS FINALES']\n",
    "        y1 = data['VentaSinIva']\n",
    "        x0 = [1,1]\n",
    "        max_1 = data['VentaSinIva'].max()\n",
    "        bounds = Bounds([0, 0.11], [max_1, 2.30])\n",
    "        \n",
    "        sol = minimize(q_err, x0, args=(x1, y1), bounds= bounds)\n",
    "        \n",
    "        c_1 = sol.x[0]\n",
    "        a_1 = sol.x[1]\n",
    "        \n",
    "        parameters.append((comb[0], comb[1], c_1, a_1))"
   ]
  },
  {
   "cell_type": "code",
   "execution_count": 12,
   "metadata": {},
   "outputs": [],
   "source": [
    "#PARA CADA COMBINACIÓN DE SUBZONA Y MACRO OBTENEMOS UNA SERIE Y LE APLICAMOS LA OPTIMIZACIÓN\n",
    "#LOS PARÁMETROS ÓPTIMOS CALCULADOS LOS GUARDAMOS EN UNA LISTA DE TUPLAS\n",
    "#ESTA SEGUNDA OPTIMIZACIÓN ES TENIENDO EN CUENTA LA VENTA EN UNIDADES\n",
    "\n",
    "parameters_1 = []\n",
    "\n",
    "for comb in combinations:\n",
    "\n",
    "    data = series(comb[0], comb[1], hiper)\n",
    "    \n",
    "    if len(data['CUERPOS FINALES'].unique()) > 2:\n",
    "        \n",
    "        x1 = data['CUERPOS FINALES']\n",
    "        y1 = data['Vta_Und']\n",
    "        x0 = [1,1]\n",
    "        max_1 = data['Vta_Und'].max()\n",
    "        bounds = Bounds([0, 0.11], [max_1, 2.30])\n",
    "        \n",
    "        sol = minimize(q_err, x0, args=(x1, y1), bounds= bounds)\n",
    "        \n",
    "        c_1 = sol.x[0]\n",
    "        a_1 = sol.x[1]\n",
    "        \n",
    "        parameters_1.append((comb[0], comb[1], c_1, a_1))"
   ]
  },
  {
   "cell_type": "code",
   "execution_count": 13,
   "metadata": {},
   "outputs": [],
   "source": [
    "#CONVERTIMOS LAS LISTAS DE TUPLAS DE LA OPTIMIZACIÓN EN UN DATAFRAME\n",
    "data_hiper_1 = pd.DataFrame(parameters_1, columns= ['SUBZONA', 'DESC_MACRO', 'Venta_Maxima_Und', 'Alpha_Und'])\n",
    "data_hiper_2 = pd.DataFrame(parameters, columns= ['SUBZONA', 'DESC_MACRO', 'Venta_Maxima', 'Alpha'])"
   ]
  },
  {
   "cell_type": "code",
   "execution_count": 14,
   "metadata": {},
   "outputs": [],
   "source": [
    "#OBTENEMOS UN ÚNICO DATAFRAME CON LOS PARÁMETROS ÓPTIMOS PARA EL FORMATO HIPERMERCADO\n",
    "elasticity_hiper = pd.concat([data_hiper_1,data_hiper_2], axis=1)\n",
    "elasticity_hiper = elasticity_hiper.iloc[:,[0,1,2,3,6,7]]\n",
    "elasticity_hiper['FORMATO'] = 'HIPERMERCADOS'"
   ]
  },
  {
   "cell_type": "markdown",
   "metadata": {},
   "source": [
    "**ANÁLSISI FORMATO SUPERMERCADO**"
   ]
  },
  {
   "cell_type": "code",
   "execution_count": 15,
   "metadata": {},
   "outputs": [],
   "source": [
    "#CALCULAMOS TODAS LAS POSIBLES COMBINACIONES ENTRE LAS SUBZONAS Y LAS MACROS PARA EL FORMATO SUPERMERCADO \n",
    "#Y LO GUARDAMOS EN UNA LISTA DE TUPLAS\n",
    "combinations_super = []\n",
    "for sub in supermercado['SubzoneDesc'].unique():\n",
    "    for macro in supermercado['DESC_MACRO'].unique():\n",
    "        combinations_super.append((sub, macro))"
   ]
  },
  {
   "cell_type": "code",
   "execution_count": 16,
   "metadata": {},
   "outputs": [],
   "source": [
    "#PARA CADA COMBINACIÓN DE SUBZONA Y MACRO OBTENEMOS UNA SERIE Y LE APLICAMOS LA OPTIMIZACIÓN\n",
    "#LOS PARÁMETROS ÓPTIMOS CALCULADOS LOS GUARDAMOS EN UNA LISTA DE TUPLAS\n",
    "#ESTA PRIMERA OPTIMIZACIÓN ES TENIENDO EN CUENTA LA VENTA EN PESOS\n",
    "\n",
    "parameters_super = []\n",
    "\n",
    "for comb in combinations_super:\n",
    "\n",
    "    data = series(comb[0], comb[1], supermercado)\n",
    "    \n",
    "    if len(data['CUERPOS FINALES'].unique()) > 2:\n",
    "        \n",
    "        x1 = data['CUERPOS FINALES']\n",
    "        y1 = data['VentaSinIva']\n",
    "        x0 = [1,1]\n",
    "        max_1 = data['VentaSinIva'].max()\n",
    "        bounds = Bounds([0, 0.11], [max_1, 2.30])\n",
    "        \n",
    "        sol = minimize(q_err, x0, args=(x1, y1), bounds= bounds)\n",
    "        \n",
    "        c_1 = sol.x[0]\n",
    "        a_1 = sol.x[1]\n",
    "        \n",
    "        parameters_super.append((comb[0], comb[1], c_1, a_1))"
   ]
  },
  {
   "cell_type": "code",
   "execution_count": 17,
   "metadata": {},
   "outputs": [],
   "source": [
    "#PARA CADA COMBINACIÓN DE SUBZONA Y MACRO OBTENEMOS UNA SERIE Y LE APLICAMOS LA OPTIMIZACIÓN\n",
    "#LOS PARÁMETROS ÓPTIMOS CALCULADOS LOS GUARDAMOS EN UNA LISTA DE TUPLAS\n",
    "#ESTA SEGUNDA OPTIMIZACIÓN ES TENIENDO EN CUENTA LA VENTA EN UNIDADES\n",
    "\n",
    "parameters_super_1 = []\n",
    "\n",
    "for comb in combinations_super:\n",
    "\n",
    "    data = series(comb[0], comb[1], supermercado)\n",
    "    \n",
    "    if len(data['CUERPOS FINALES'].unique()) > 2:\n",
    "        \n",
    "        x1 = data['CUERPOS FINALES']\n",
    "        y1 = data['Vta_Und']\n",
    "        x0 = [1,1]\n",
    "        max_1 = data['Vta_Und'].max()\n",
    "        bounds = Bounds([0, 0.11], [max_1, 2.30])\n",
    "        \n",
    "        sol = minimize(q_err, x0, args=(x1, y1), bounds= bounds)\n",
    "        \n",
    "        c_1 = sol.x[0]\n",
    "        a_1 = sol.x[1]\n",
    "        \n",
    "        parameters_super_1.append((comb[0], comb[1], c_1, a_1))"
   ]
  },
  {
   "cell_type": "code",
   "execution_count": 18,
   "metadata": {},
   "outputs": [],
   "source": [
    "#CONVERTIMOS LAS LISTAS DE TUPLAS DE LA OPTIMIZACIÓN EN UN DATAFRAME\n",
    "data_super_1 = pd.DataFrame(parameters_super_1, columns= ['SUBZONA', 'DESC_MACRO', 'Venta_Maxima_Und', 'Alpha_Und'])\n",
    "data_super_2 = pd.DataFrame(parameters_super, columns= ['SUBZONA', 'DESC_MACRO', 'Venta_Maxima', 'Alpha'])"
   ]
  },
  {
   "cell_type": "code",
   "execution_count": 19,
   "metadata": {},
   "outputs": [],
   "source": [
    "#OBTENEMOS UN ÚNICO DATAFRAME CON LOS PARÁMETROS ÓPTIMOS PARA EL FORMATO SUPERMERCADO\n",
    "elasticity_super = pd.concat([data_super_1,data_super_2], axis=1)\n",
    "elasticity_super = elasticity_super.iloc[:,[0,1,2,3,6,7]]\n",
    "elasticity_super['FORMATO'] = 'SUPERMERCADOS'"
   ]
  },
  {
   "cell_type": "markdown",
   "metadata": {},
   "source": [
    "**ANÁLISIS FORMATO VECINO**"
   ]
  },
  {
   "cell_type": "code",
   "execution_count": 20,
   "metadata": {},
   "outputs": [],
   "source": [
    "#CALCULAMOS TODAS LAS POSIBLES COMBINACIONES ENTRE LAS SUBZONAS Y LAS MACROS PARA EL FORMATO VECINO \n",
    "#Y LO GUARDAMOS EN UNA LISTA DE TUPLAS\n",
    "\n",
    "combinations_vecino = []\n",
    "for sub in vecino['SubzoneDesc'].unique():\n",
    "    for macro in vecino['DESC_MACRO'].unique():\n",
    "        combinations_vecino.append((sub, macro))"
   ]
  },
  {
   "cell_type": "code",
   "execution_count": 21,
   "metadata": {},
   "outputs": [],
   "source": [
    "#PARA CADA COMBINACIÓN DE SUBZONA Y MACRO OBTENEMOS UNA SERIE Y LE APLICAMOS LA OPTIMIZACIÓN\n",
    "#LOS PARÁMETROS ÓPTIMOS CALCULADOS LOS GUARDAMOS EN UNA LISTA DE TUPLAS\n",
    "#ESTA PRIMERA OPTIMIZACIÓN ES TENIENDO EN CUENTA LA VENTA EN PESOS\n",
    "\n",
    "parameters_vecino = []\n",
    "\n",
    "for comb in combinations_vecino:\n",
    "\n",
    "    data = series(comb[0], comb[1], vecino)\n",
    "    \n",
    "    if len(data['CUERPOS FINALES'].unique()) > 2:\n",
    "        \n",
    "        x1 = data['CUERPOS FINALES']\n",
    "        y1 = data['VentaSinIva']\n",
    "        x0 = [1,1]\n",
    "        max_1 = data['VentaSinIva'].max()\n",
    "        bounds = Bounds([0, 0.11], [max_1, 2.30])\n",
    "        \n",
    "        sol = minimize(q_err, x0, args=(x1, y1), bounds= bounds)\n",
    "        \n",
    "        c_1 = sol.x[0]\n",
    "        a_1 = sol.x[1]\n",
    "        \n",
    "        parameters_vecino.append((comb[0], comb[1], c_1, a_1))"
   ]
  },
  {
   "cell_type": "code",
   "execution_count": 22,
   "metadata": {},
   "outputs": [],
   "source": [
    "#PARA CADA COMBINACIÓN DE SUBZONA Y MACRO OBTENEMOS UNA SERIE Y LE APLICAMOS LA OPTIMIZACIÓN\n",
    "#LOS PARÁMETROS ÓPTIMOS CALCULADOS LOS GUARDAMOS EN UNA LISTA DE TUPLAS\n",
    "#ESTA SEGUNDA OPTIMIZACIÓN ES TENIENDO EN CUENTA LA VENTA EN UNIDADES\n",
    "\n",
    "parameters_vecino_1 = []\n",
    "\n",
    "for comb in combinations_vecino:\n",
    "\n",
    "    data = series(comb[0], comb[1], vecino)\n",
    "    \n",
    "    if len(data['CUERPOS FINALES'].unique()) > 2:\n",
    "        \n",
    "        x1 = data['CUERPOS FINALES']\n",
    "        y1 = data['Vta_Und']\n",
    "        x0 = [1,1]\n",
    "        max_1 = data['Vta_Und'].max()\n",
    "        bounds = Bounds([0, 0.11], [max_1, 2.30])\n",
    "        \n",
    "        sol = minimize(q_err, x0, args=(x1, y1), bounds= bounds)\n",
    "        \n",
    "        c_1 = sol.x[0]\n",
    "        a_1 = sol.x[1]\n",
    "        \n",
    "        parameters_vecino_1.append((comb[0], comb[1], c_1, a_1))"
   ]
  },
  {
   "cell_type": "code",
   "execution_count": 23,
   "metadata": {},
   "outputs": [],
   "source": [
    "#CONVERTIMOS LAS LISTAS DE TUPLAS DE LA OPTIMIZACIÓN EN UN DATAFRAME\n",
    "data_vecino_1 = pd.DataFrame(parameters_vecino_1, columns= ['SUBZONA', 'DESC_MACRO', 'Venta_Maxima_Und', 'Alpha_Und'])\n",
    "data_vecino_2 = pd.DataFrame(parameters_vecino, columns= ['SUBZONA', 'DESC_MACRO', 'Venta_Maxima', 'Alpha'])"
   ]
  },
  {
   "cell_type": "code",
   "execution_count": 24,
   "metadata": {},
   "outputs": [],
   "source": [
    "#OBTENEMOS UN ÚNICO DATAFRAME CON LOS PARÁMETROS ÓPTIMOS PARA EL FORMATO SUPERMERCADO\n",
    "elasticity_vecino = pd.concat([data_vecino_1,data_vecino_2], axis=1)\n",
    "elasticity_vecino = elasticity_vecino.iloc[:,[0,1,2,3,6,7]]\n",
    "elasticity_vecino['FORMATO'] = 'VECINO'"
   ]
  },
  {
   "cell_type": "code",
   "execution_count": 25,
   "metadata": {},
   "outputs": [],
   "source": [
    "#CONCATENAMOS LOS DATAFRAMES DE CADA TIPO DE FORMATO Y OBTENEMOS UN ÚNICO DATAFRAME CON LOS PARÁMETROS ÓPTIMOS\n",
    "elasticity = pd.concat([elasticity_hiper, elasticity_super], axis=0)\n",
    "elasticity = elasticity.reset_index(drop=True)\n",
    "elasticity = pd.concat([elasticity, elasticity_vecino], axis=0)\n",
    "elasticity = elasticity.reset_index(drop=True)"
   ]
  },
  {
   "cell_type": "code",
   "execution_count": 26,
   "metadata": {},
   "outputs": [],
   "source": [
    "#HACEMOS UN JOIN CON EL DATAFRAME 'macro_df' PARA AGREGAR A NUESTRA BASE DE DATOS LOS CÓDIGOS DE CADA MACRO\n",
    "elasticity = pd.merge(left=elasticity, right=macro_df, how='left', left_on=['DESC_MACRO'], right_on=['DESC_MAC'])"
   ]
  },
  {
   "cell_type": "code",
   "execution_count": 27,
   "metadata": {},
   "outputs": [],
   "source": [
    "#HACEMOS UN JOIN CON EL DATAFRAME 'data_loc' PARA AGREGAR A LA BASE DE DATOS LA INFORMACIÓN POR DEPENDENCIA\n",
    "elasticity = pd.merge(left= data_loc, right= elasticity, how='left', left_on=['SubzoneDesc', 'FormatDesc', 'MACRO'], \n",
    "                      right_on=['SUBZONA', 'FORMATO', 'MACRO_ID'])"
   ]
  },
  {
   "cell_type": "code",
   "execution_count": 28,
   "metadata": {},
   "outputs": [],
   "source": [
    "#NOS ASEGURAMOS QUE NO QUEDEN DATOS FALTANTES EN LA BASE DE DATOS Y FILTRAMOS LAS COLUMNAS DE INTERÉS\n",
    "elasticity = elasticity.dropna()\n",
    "elasticity = elasticity.iloc[:,[5,3,2,4,0,1,6,8,9,10,11,12]]"
   ]
  },
  {
   "cell_type": "code",
   "execution_count": 30,
   "metadata": {},
   "outputs": [],
   "source": [
    "#elasticity.to_excel(r'C:/Users/jmcastellanos/Documents/Mateo Castellanos/Proyecto Elásticidad de Espacios/Datos/elasticity_data_dep_2.xlsx', index=False)"
   ]
  },
  {
   "cell_type": "markdown",
   "metadata": {},
   "source": [
    "## ANÁLISIS DE LAS DISTRIBUCIONES ACTUALES DE CADA UNA DE LAS DEPENDENCIAS"
   ]
  },
  {
   "cell_type": "markdown",
   "metadata": {},
   "source": [
    "**LECTURA DE DATOS**"
   ]
  },
  {
   "cell_type": "code",
   "execution_count": 31,
   "metadata": {},
   "outputs": [],
   "source": [
    "elasticity_data = pd.read_excel('Elasticidad del espacio/elasticity_data_dep_2.xlsx')\n",
    "bodies = pd.read_excel('Elasticidad del espacio/CUERPOS.xlsx')"
   ]
  },
  {
   "cell_type": "code",
   "execution_count": 34,
   "metadata": {},
   "outputs": [],
   "source": [
    "#HACEMOS UN JOIN CON EL DATAFRAME 'bodies' PARA AGREGAR INFORMACIÓN DE LOS MUNDOS Y LOS CUERPOS ACTUALES\n",
    "mundo = pd.merge(left=bodies, right= elasticity_data, how='left', left_on=['LOCID','LOC_DESC','COD_MAC'],\n",
    "                right_on=['N° DEP.','DEPENDENCIA', 'MACRO'])"
   ]
  },
  {
   "cell_type": "code",
   "execution_count": 35,
   "metadata": {},
   "outputs": [],
   "source": [
    "#ASEGURAMOS QUE NO EXISTAN DATOS FALTANTES EN EL DATAFRAME Y FILTRAMOS POR LAS COLUMNAS DE INTERÉS\n",
    "mundo = mundo.dropna()\n",
    "mundo = mundo.iloc[:,[9,10,11,12,13,14,5,15,16,17,18,19,20,7,8]]\n",
    "mundo['CUERPOS'] = mundo['CUERPOS'].astype(int)\n",
    "mundo['TOTAL CUERPOS'] = mundo['CUERPOS'] + mundo['CUERPOS ADICIONALES']"
   ]
  },
  {
   "cell_type": "code",
   "execution_count": 37,
   "metadata": {},
   "outputs": [],
   "source": [
    "#mundo.to_excel(r'C:/Users/jmcastellanos/Documents/Mateo Castellanos/Proyecto Elásticidad de Espacios/Datos/SE_init_data.xlsx', index=False)"
   ]
  }
 ],
 "metadata": {
  "kernelspec": {
   "display_name": "Python 3",
   "language": "python",
   "name": "python3"
  },
  "language_info": {
   "codemirror_mode": {
    "name": "ipython",
    "version": 3
   },
   "file_extension": ".py",
   "mimetype": "text/x-python",
   "name": "python",
   "nbconvert_exporter": "python",
   "pygments_lexer": "ipython3",
   "version": "3.7.3"
  }
 },
 "nbformat": 4,
 "nbformat_minor": 2
}
